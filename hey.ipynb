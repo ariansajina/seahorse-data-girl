{
 "cells": [
  {
   "cell_type": "code",
   "execution_count": null,
   "id": "3d9e0953-77bb-499a-b746-544a80f51d1e",
   "metadata": {},
   "outputs": [],
   "source": [
    "# Let's import the bread and butter packages of every aspiring data scientist\n",
    "import numpy as np\n",
    "import pandas as pd"
   ]
  },
  {
   "cell_type": "code",
   "execution_count": null,
   "id": "653d975e-b9e6-4240-809a-7472639bdcd5",
   "metadata": {},
   "outputs": [],
   "source": [
    "# Read the raw data...\n",
    "data = pd.read_csv('data.csv')"
   ]
  },
  {
   "cell_type": "code",
   "execution_count": null,
   "id": "aa48f2ec-d64a-4c2b-a6c9-0c57e2bb274e",
   "metadata": {},
   "outputs": [],
   "source": [
    "# ...and have a peak\n",
    "data.head()"
   ]
  },
  {
   "cell_type": "code",
   "execution_count": null,
   "id": "7a522c40-1c91-4c54-9c9e-63e755029928",
   "metadata": {},
   "outputs": [],
   "source": [
    "# Check for any missing data before it gets us in trouble\n",
    "data.isna().any()"
   ]
  },
  {
   "cell_type": "code",
   "execution_count": null,
   "id": "b541a4f2-225e-4da0-bd38-900f9b84b783",
   "metadata": {},
   "outputs": [],
   "source": [
    "# Yeah, guess we need to handle that.... What is this data anyway??\n",
    "data.describe()"
   ]
  },
  {
   "cell_type": "code",
   "execution_count": null,
   "id": "05bfac55-723a-41ef-a557-18098f5372f4",
   "metadata": {},
   "outputs": [],
   "source": [
    "# Hmm seems normal-ish distributed, let's just fill with mean\n",
    "data = data.fillna(data.mean())"
   ]
  },
  {
   "cell_type": "markdown",
   "id": "0c82b081-4f7f-4e52-a718-712d6f82ccd5",
   "metadata": {},
   "source": [
    "OK let's try naively plotting some columns against each other... maybe we spot something interesting."
   ]
  },
  {
   "cell_type": "code",
   "execution_count": null,
   "id": "85dec737-c5b0-4a67-8473-98e85afd1d19",
   "metadata": {},
   "outputs": [],
   "source": [
    "import matplotlib.pyplot as plt\n",
    "\n",
    "# Pick some arbitrary column combinations\n",
    "column_combinations = np.array([\n",
    "    ['1', '4'],\n",
    "    ['0', '1'],\n",
    "    ['2', '4'],\n",
    "    ['3', '4'],\n",
    "])\n",
    "\n",
    "# Create a 2x2 subplot grid for scatter plots\n",
    "fig, axes = plt.subplots(nrows=2, ncols=2, figsize=(10, 8))\n",
    "\n",
    "for i in range(2):\n",
    "    for j in range(2):\n",
    "        ax = axes[i][j]\n",
    "        col1, col2 = column_combinations[i + 2 * j][0], column_combinations[i + 2 * j][1]\n",
    "        ax.scatter(data[col1], data[col2], alpha=0.5)\n",
    "        ax.set_xlabel(col1)\n",
    "        ax.set_ylabel(col2)\n",
    "\n",
    "# Adjust layout and show the plot\n",
    "plt.tight_layout()\n",
    "plt.show()"
   ]
  },
  {
   "cell_type": "markdown",
   "id": "3851fa42-e5bf-4fb4-a48d-f7b76553280b",
   "metadata": {},
   "source": [
    "Is it just noise?! But I mean, surely the guy wouldn't just generate a random array and send it over to me... what's that on the last plot? That looks kinda structured... Alright let's find the structure, PCA to the rescue!"
   ]
  },
  {
   "cell_type": "code",
   "execution_count": null,
   "id": "ba269e66-fd92-423d-ad7e-c483f578cd3d",
   "metadata": {},
   "outputs": [],
   "source": [
    "from sklearn.decomposition import PCA\n",
    "\n",
    "# Initialize the PCA model with the desired number of components\n",
    "n_components = 6  # You can adjust this based on your needs\n",
    "pca = PCA(n_components=n_components)\n",
    "\n",
    "# Fit the PCA model to your dataset\n",
    "pca.fit(data)\n",
    "\n",
    "# Transform the original data to the new reduced dimensionality\n",
    "X_pca = pca.transform(data)\n",
    "\n",
    "# Print the explained variance ratio for each component\n",
    "print(\"Explained Variance Ratio:\", pca.explained_variance_ratio_)\n",
    "\n",
    "# Plot the PCA-transformed data\n",
    "plt.scatter(X_pca[:, 1], X_pca[:, 0], alpha=0.6)\n",
    "plt.title(\"PCA Transformed Data\")\n",
    "plt.xlabel(\"Principal Component 1\")\n",
    "plt.ylabel(\"Principal Component 2\")\n",
    "\n",
    "plt.show()\n"
   ]
  },
  {
   "cell_type": "code",
   "execution_count": null,
   "id": "c04f032f-bd19-4199-a87c-b3f1febc1827",
   "metadata": {},
   "outputs": [],
   "source": []
  }
 ],
 "metadata": {
  "kernelspec": {
   "display_name": "Python 3 (ipykernel)",
   "language": "python",
   "name": "python3"
  },
  "language_info": {
   "codemirror_mode": {
    "name": "ipython",
    "version": 3
   },
   "file_extension": ".py",
   "mimetype": "text/x-python",
   "name": "python",
   "nbconvert_exporter": "python",
   "pygments_lexer": "ipython3",
   "version": "3.9.7"
  }
 },
 "nbformat": 4,
 "nbformat_minor": 5
}
